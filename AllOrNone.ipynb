{
 "metadata": {
  "name": "",
  "signature": "sha256:c80fb715ac8b0fd9e49d4b192483930247a0f62b4ae1610bf6e8639ed46b7804"
 },
 "nbformat": 3,
 "nbformat_minor": 0,
 "worksheets": []
}