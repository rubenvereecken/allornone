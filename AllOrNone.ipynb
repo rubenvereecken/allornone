{
 "metadata": {
  "name": "",
  "signature": "sha256:ba339617fbc280b7b37c72a63b1c010f5867a4d1218d1f755e966ba20f7907bb"
 },
 "nbformat": 3,
 "nbformat_minor": 0,
 "worksheets": [
  {
   "cells": [
    {
     "cell_type": "code",
     "collapsed": false,
     "input": [
      "import numpy as np\n",
      "import scipy as sp\n",
      "import matplotlib as mpl\n",
      "import matplotlib.pyplot as plt\n",
      "import random\n",
      "import matplotlib.patches as mpatches\n",
      "import math\n",
      "from itertools import chain"
     ],
     "language": "python",
     "metadata": {},
     "outputs": [],
     "prompt_number": 1
    },
    {
     "cell_type": "code",
     "collapsed": false,
     "input": [
      "def withChance(p):\n",
      "    return random.random() < p\n",
      "\n",
      "class Player:\n",
      "    def __init__(self, initial, strategy):\n",
      "        self.behavior = [initial]\n",
      "        self.strategy = strategy\n",
      "        \n",
      "class PublicGoodsGame:\n",
      "    def __init__(self, **kwargs):\n",
      "        self.__dict__.update(kwargs)\n",
      "        self.players = []\n",
      "        \n",
      "        for groupIt in range(self.Z/self.N): # Z/N groups\n",
      "            group = []\n",
      "            for i in range(self.N): # N people per group\n",
      "                initialBehavior = 1 if withChance(self.initialC) else 0\n",
      "                chance = random.random()\n",
      "                strategy = None\n",
      "                for strategyOdds in self.strategies:\n",
      "                    if chance < strategyOdds[0]:\n",
      "                        strategy = strategyOdds[1]\n",
      "                        break\n",
      "                    else:\n",
      "                        chance -= strategyOdds[0]\n",
      "                group.append(Player(initialBehavior, strategy))\n",
      "                \n",
      "            self.players.append(group)\n",
      "            \n",
      "        cCount = 0.\n",
      "        for group in self.players:\n",
      "            for player in group:\n",
      "                cCount += 1 if player.behavior[0] == 1 else 0\n",
      "        \n",
      "        print \"Initial C ratio is {}\".format(cCount/self.Z)\n",
      "        "
     ],
     "language": "python",
     "metadata": {},
     "outputs": [],
     "prompt_number": 32
    },
    {
     "cell_type": "code",
     "collapsed": false,
     "input": [
      "def allOrNone(game):\n",
      "    return"
     ],
     "language": "python",
     "metadata": {},
     "outputs": [],
     "prompt_number": 33
    },
    {
     "cell_type": "code",
     "collapsed": false,
     "input": [
      "config = {\n",
      "    'Z': 100,\n",
      "    'N': 10,\n",
      "    'F': 8,\n",
      "    'beta': 1, # intensity of selection\n",
      "    'epsilon': 0.05,\n",
      "    'mu': 0.001,\n",
      "    'initialC': 0.5, # determines initial population behavior\n",
      "    'strategies': [\n",
      "        (1., allOrNone), # population consisting solely of allOrNone players\n",
      "    ],\n",
      "}"
     ],
     "language": "python",
     "metadata": {},
     "outputs": [],
     "prompt_number": 34
    },
    {
     "cell_type": "code",
     "collapsed": false,
     "input": [
      "random.seed(0)\n",
      "game = PublicGoodsGame(**config)"
     ],
     "language": "python",
     "metadata": {},
     "outputs": [
      {
       "output_type": "stream",
       "stream": "stdout",
       "text": [
        "Initial C ratio is 0.43\n"
       ]
      }
     ],
     "prompt_number": 40
    },
    {
     "cell_type": "code",
     "collapsed": false,
     "input": [],
     "language": "python",
     "metadata": {},
     "outputs": [],
     "prompt_number": 35
    },
    {
     "cell_type": "code",
     "collapsed": false,
     "input": [],
     "language": "python",
     "metadata": {},
     "outputs": []
    }
   ],
   "metadata": {}
  }
 ]
}